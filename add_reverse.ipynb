{
 "cells": [
  {
   "cell_type": "markdown",
   "id": "8fa35af2",
   "metadata": {},
   "source": [
    "# COMP 361 & 651 Data Analytics"
   ]
  },
  {
   "attachments": {},
   "cell_type": "markdown",
   "id": "36c88910",
   "metadata": {},
   "source": [
    "## Define a function `add_reverse()` that takes a list of numbers and returns the result of element-wise adding the list and the reversed version of it."
   ]
  },
  {
   "cell_type": "code",
   "execution_count": 22,
   "id": "8241e91d",
   "metadata": {},
   "outputs": [],
   "source": [
    "def add_reverse(lst):\n",
    "    l = reversed(lst)\n",
    "    \n",
    "    return list(map(lambda x,y: x+y, lst, l))"
   ]
  },
  {
   "cell_type": "code",
   "execution_count": 23,
   "id": "ee6b7900",
   "metadata": {},
   "outputs": [
    {
     "name": "stdout",
     "output_type": "stream",
     "text": [
      "[4, 5, 5, 4]\n"
     ]
    }
   ],
   "source": [
    "print(add_reverse([1, 0, 5, 3]))"
   ]
  },
  {
   "cell_type": "code",
   "execution_count": null,
   "id": "de3c667a",
   "metadata": {},
   "outputs": [],
   "source": []
  }
 ],
 "metadata": {
  "kernelspec": {
   "display_name": "Python 3 (ipykernel)",
   "language": "python",
   "name": "python3"
  },
  "language_info": {
   "codemirror_mode": {
    "name": "ipython",
    "version": 3
   },
   "file_extension": ".py",
   "mimetype": "text/x-python",
   "name": "python",
   "nbconvert_exporter": "python",
   "pygments_lexer": "ipython3",
   "version": "3.11.4"
  }
 },
 "nbformat": 4,
 "nbformat_minor": 5
}
